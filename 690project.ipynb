{
 "cells": [
  {
   "cell_type": "markdown",
   "metadata": {},
   "source": [
    "# 1. Import and clean American Community Survey data"
   ]
  },
  {
   "cell_type": "markdown",
   "metadata": {},
   "source": [
    "The variables we need from ACS PUMS 2017 personal data is their interview number(SERIALNO), state(ST), citizenship(CIT), sex, age(AGEP), marital stage(MAR), fertility rate within past 12 months(FER), education level(SCHG), income within past 12 months(WAGP &  PINCP), race(RAC1P). \n",
    "\n",
    "These data are available at ACS website (https://www.census.gov/programs-surveys/acs/data/pums.html) or American Act Finder (https://factfinder.census.gov/faces/tableservices/jsf/pages/productview.xhtml?pid=ACS_pums_csv_2017&prodType=document).\n",
    "\n",
    "**Note:Since acs data is too large, I only attached merged data (acs.csv) in my zip. Please skip this part and start from part2.**"
   ]
  },
  {
   "cell_type": "code",
   "execution_count": 7,
   "metadata": {},
   "outputs": [],
   "source": [
    "import pandas as pd\n",
    "person17a = pd.read_csv('Z:\\\\2017ACS\\\\psam_pusa.csv',usecols=['SERIALNO','ST','CIT','SEX','AGEP',\n",
    "                                                'MAR','FER','SCHL','WAGP','PINCP','RAC1P'])\n",
    "person17b = pd.read_csv('Z:\\\\2017ACS\\\\psam_pusa.csv',usecols=['SERIALNO','ST','CIT','SEX','AGEP',\n",
    "                                                'MAR','FER','SCHL','WAGP','PINCP','RAC1P'])\n",
    "person17 = person17a.append(person17b,ignore_index=True)"
   ]
  },
  {
   "cell_type": "markdown",
   "metadata": {},
   "source": [
    "The variables we need from household data is income of the whole family and number of own children of an observation."
   ]
  },
  {
   "cell_type": "code",
   "execution_count": 9,
   "metadata": {},
   "outputs": [],
   "source": [
    "house17a=pd.read_csv('Z:\\\\2017ACS\\\\psam_husa.csv',usecols=['SERIALNO','FINCP','NOC'])\n",
    "house17b=pd.read_csv('Z:\\\\2017ACS\\\\psam_husb.csv',usecols=['SERIALNO','FINCP','NOC'])\n",
    "house17=house17a.append(house17b,ignore_index=True)"
   ]
  },
  {
   "cell_type": "markdown",
   "metadata": {},
   "source": [
    "Merge them together then we get data needed."
   ]
  },
  {
   "cell_type": "code",
   "execution_count": 11,
   "metadata": {},
   "outputs": [
    {
     "data": {
      "text/html": [
       "<div>\n",
       "<style scoped>\n",
       "    .dataframe tbody tr th:only-of-type {\n",
       "        vertical-align: middle;\n",
       "    }\n",
       "\n",
       "    .dataframe tbody tr th {\n",
       "        vertical-align: top;\n",
       "    }\n",
       "\n",
       "    .dataframe thead th {\n",
       "        text-align: right;\n",
       "    }\n",
       "</style>\n",
       "<table border=\"1\" class=\"dataframe\">\n",
       "  <thead>\n",
       "    <tr style=\"text-align: right;\">\n",
       "      <th></th>\n",
       "      <th>SERIALNO</th>\n",
       "      <th>ST</th>\n",
       "      <th>AGEP</th>\n",
       "      <th>CIT</th>\n",
       "      <th>FER</th>\n",
       "      <th>MAR</th>\n",
       "      <th>SCHL</th>\n",
       "      <th>SEX</th>\n",
       "      <th>WAGP</th>\n",
       "      <th>PINCP</th>\n",
       "      <th>RAC1P</th>\n",
       "      <th>FINCP</th>\n",
       "      <th>NOC</th>\n",
       "    </tr>\n",
       "  </thead>\n",
       "  <tbody>\n",
       "    <tr>\n",
       "      <th>0</th>\n",
       "      <td>2017000000016</td>\n",
       "      <td>1</td>\n",
       "      <td>73</td>\n",
       "      <td>1</td>\n",
       "      <td>NaN</td>\n",
       "      <td>4</td>\n",
       "      <td>10.0</td>\n",
       "      <td>1</td>\n",
       "      <td>0.0</td>\n",
       "      <td>10000.0</td>\n",
       "      <td>2</td>\n",
       "      <td>NaN</td>\n",
       "      <td>0.0</td>\n",
       "    </tr>\n",
       "    <tr>\n",
       "      <th>1</th>\n",
       "      <td>2017000000031</td>\n",
       "      <td>1</td>\n",
       "      <td>31</td>\n",
       "      <td>1</td>\n",
       "      <td>2.0</td>\n",
       "      <td>5</td>\n",
       "      <td>21.0</td>\n",
       "      <td>2</td>\n",
       "      <td>38500.0</td>\n",
       "      <td>38500.0</td>\n",
       "      <td>1</td>\n",
       "      <td>NaN</td>\n",
       "      <td>0.0</td>\n",
       "    </tr>\n",
       "    <tr>\n",
       "      <th>2</th>\n",
       "      <td>2017000000061</td>\n",
       "      <td>1</td>\n",
       "      <td>41</td>\n",
       "      <td>1</td>\n",
       "      <td>NaN</td>\n",
       "      <td>1</td>\n",
       "      <td>17.0</td>\n",
       "      <td>1</td>\n",
       "      <td>72000.0</td>\n",
       "      <td>82000.0</td>\n",
       "      <td>1</td>\n",
       "      <td>90700.0</td>\n",
       "      <td>1.0</td>\n",
       "    </tr>\n",
       "    <tr>\n",
       "      <th>3</th>\n",
       "      <td>2017000000061</td>\n",
       "      <td>1</td>\n",
       "      <td>48</td>\n",
       "      <td>1</td>\n",
       "      <td>2.0</td>\n",
       "      <td>1</td>\n",
       "      <td>16.0</td>\n",
       "      <td>2</td>\n",
       "      <td>0.0</td>\n",
       "      <td>8700.0</td>\n",
       "      <td>1</td>\n",
       "      <td>90700.0</td>\n",
       "      <td>1.0</td>\n",
       "    </tr>\n",
       "    <tr>\n",
       "      <th>4</th>\n",
       "      <td>2017000000061</td>\n",
       "      <td>1</td>\n",
       "      <td>16</td>\n",
       "      <td>1</td>\n",
       "      <td>NaN</td>\n",
       "      <td>5</td>\n",
       "      <td>13.0</td>\n",
       "      <td>1</td>\n",
       "      <td>0.0</td>\n",
       "      <td>0.0</td>\n",
       "      <td>1</td>\n",
       "      <td>90700.0</td>\n",
       "      <td>1.0</td>\n",
       "    </tr>\n",
       "  </tbody>\n",
       "</table>\n",
       "</div>"
      ],
      "text/plain": [
       "        SERIALNO  ST  AGEP  CIT  FER  MAR  SCHL  SEX     WAGP    PINCP  RAC1P  \\\n",
       "0  2017000000016   1    73    1  NaN    4  10.0    1      0.0  10000.0      2   \n",
       "1  2017000000031   1    31    1  2.0    5  21.0    2  38500.0  38500.0      1   \n",
       "2  2017000000061   1    41    1  NaN    1  17.0    1  72000.0  82000.0      1   \n",
       "3  2017000000061   1    48    1  2.0    1  16.0    2      0.0   8700.0      1   \n",
       "4  2017000000061   1    16    1  NaN    5  13.0    1      0.0      0.0      1   \n",
       "\n",
       "     FINCP  NOC  \n",
       "0      NaN  0.0  \n",
       "1      NaN  0.0  \n",
       "2  90700.0  1.0  \n",
       "3  90700.0  1.0  \n",
       "4  90700.0  1.0  "
      ]
     },
     "execution_count": 11,
     "metadata": {},
     "output_type": "execute_result"
    }
   ],
   "source": [
    "acs17=person17.merge(house17,on='SERIALNO',how='left') #Merge personal info with household info.\n",
    "acs17.head()"
   ]
  },
  {
   "cell_type": "markdown",
   "metadata": {},
   "source": [
    "This table only consists of first 28 states. I have to combine them with other 28 states one by one."
   ]
  },
  {
   "cell_type": "code",
   "execution_count": 13,
   "metadata": {},
   "outputs": [],
   "source": [
    "acs=[]\n",
    "for i in range(29,57):\n",
    "    if (i!=43) & (i!=44) & (i!=52):\n",
    "        acs.append(pd.read_csv('Z:\\\\2017ACS\\\\psam_p'+str(i)+'.csv',usecols=['SERIALNO','ST','CIT','SEX','AGEP',\n",
    "                                                'MAR','FER','SCHL','WAGP','PINCP','RAC1P']))"
   ]
  },
  {
   "cell_type": "code",
   "execution_count": 14,
   "metadata": {},
   "outputs": [],
   "source": [
    "house=[]\n",
    "for i in range(29,57):\n",
    "    if (i!=43) & (i!=44) & (i!=52):\n",
    "        house.append(pd.read_csv('Z:\\\\2017ACS\\\\psam_h'+str(i)+'.csv',usecols=['SERIALNO','FINCP','NOC']))"
   ]
  },
  {
   "cell_type": "code",
   "execution_count": 15,
   "metadata": {},
   "outputs": [],
   "source": [
    "data=[]\n",
    "for i in range(0,25):\n",
    "    data.append(acs[i].merge(house[i],on='SERIALNO',how='left'))"
   ]
  },
  {
   "cell_type": "code",
   "execution_count": 16,
   "metadata": {},
   "outputs": [
    {
     "data": {
      "text/plain": [
       "SERIALNO      int64\n",
       "ST            int64\n",
       "AGEP          int64\n",
       "CIT           int64\n",
       "FER         float64\n",
       "MAR           int64\n",
       "SCHL        float64\n",
       "SEX           int64\n",
       "WAGP        float64\n",
       "PINCP       float64\n",
       "RAC1P         int64\n",
       "FINCP       float64\n",
       "NOC         float64\n",
       "dtype: object"
      ]
     },
     "execution_count": 16,
     "metadata": {},
     "output_type": "execute_result"
    }
   ],
   "source": [
    "data[0].dtypes"
   ]
  },
  {
   "cell_type": "markdown",
   "metadata": {},
   "source": [
    "Everything looks good."
   ]
  },
  {
   "cell_type": "code",
   "execution_count": 17,
   "metadata": {},
   "outputs": [],
   "source": [
    "for i in range(0,25):\n",
    "    acs17=acs17.append(data[i],sort=True)"
   ]
  },
  {
   "cell_type": "code",
   "execution_count": 20,
   "metadata": {},
   "outputs": [
    {
     "data": {
      "text/html": [
       "<div>\n",
       "<style scoped>\n",
       "    .dataframe tbody tr th:only-of-type {\n",
       "        vertical-align: middle;\n",
       "    }\n",
       "\n",
       "    .dataframe tbody tr th {\n",
       "        vertical-align: top;\n",
       "    }\n",
       "\n",
       "    .dataframe thead th {\n",
       "        text-align: right;\n",
       "    }\n",
       "</style>\n",
       "<table border=\"1\" class=\"dataframe\">\n",
       "  <thead>\n",
       "    <tr style=\"text-align: right;\">\n",
       "      <th></th>\n",
       "      <th>AGEP</th>\n",
       "      <th>CIT</th>\n",
       "      <th>FER</th>\n",
       "      <th>FINCP</th>\n",
       "      <th>MAR</th>\n",
       "      <th>NOC</th>\n",
       "      <th>PINCP</th>\n",
       "      <th>RAC1P</th>\n",
       "      <th>SCHL</th>\n",
       "      <th>SERIALNO</th>\n",
       "      <th>SEX</th>\n",
       "      <th>ST</th>\n",
       "      <th>WAGP</th>\n",
       "    </tr>\n",
       "  </thead>\n",
       "  <tbody>\n",
       "    <tr>\n",
       "      <th>5907</th>\n",
       "      <td>20</td>\n",
       "      <td>1</td>\n",
       "      <td>2.0</td>\n",
       "      <td>NaN</td>\n",
       "      <td>5</td>\n",
       "      <td>NaN</td>\n",
       "      <td>9000.0</td>\n",
       "      <td>1</td>\n",
       "      <td>19.0</td>\n",
       "      <td>2017001534830</td>\n",
       "      <td>2</td>\n",
       "      <td>56</td>\n",
       "      <td>9000.0</td>\n",
       "    </tr>\n",
       "    <tr>\n",
       "      <th>5908</th>\n",
       "      <td>18</td>\n",
       "      <td>1</td>\n",
       "      <td>NaN</td>\n",
       "      <td>NaN</td>\n",
       "      <td>5</td>\n",
       "      <td>NaN</td>\n",
       "      <td>4000.0</td>\n",
       "      <td>1</td>\n",
       "      <td>16.0</td>\n",
       "      <td>2017001534957</td>\n",
       "      <td>1</td>\n",
       "      <td>56</td>\n",
       "      <td>0.0</td>\n",
       "    </tr>\n",
       "    <tr>\n",
       "      <th>5909</th>\n",
       "      <td>31</td>\n",
       "      <td>1</td>\n",
       "      <td>2.0</td>\n",
       "      <td>NaN</td>\n",
       "      <td>5</td>\n",
       "      <td>NaN</td>\n",
       "      <td>5000.0</td>\n",
       "      <td>9</td>\n",
       "      <td>18.0</td>\n",
       "      <td>2017001535265</td>\n",
       "      <td>2</td>\n",
       "      <td>56</td>\n",
       "      <td>5000.0</td>\n",
       "    </tr>\n",
       "    <tr>\n",
       "      <th>5910</th>\n",
       "      <td>60</td>\n",
       "      <td>1</td>\n",
       "      <td>NaN</td>\n",
       "      <td>NaN</td>\n",
       "      <td>3</td>\n",
       "      <td>NaN</td>\n",
       "      <td>2400.0</td>\n",
       "      <td>1</td>\n",
       "      <td>19.0</td>\n",
       "      <td>2017001536156</td>\n",
       "      <td>1</td>\n",
       "      <td>56</td>\n",
       "      <td>2400.0</td>\n",
       "    </tr>\n",
       "    <tr>\n",
       "      <th>5911</th>\n",
       "      <td>20</td>\n",
       "      <td>1</td>\n",
       "      <td>NaN</td>\n",
       "      <td>NaN</td>\n",
       "      <td>5</td>\n",
       "      <td>NaN</td>\n",
       "      <td>0.0</td>\n",
       "      <td>1</td>\n",
       "      <td>18.0</td>\n",
       "      <td>2017001536504</td>\n",
       "      <td>1</td>\n",
       "      <td>56</td>\n",
       "      <td>0.0</td>\n",
       "    </tr>\n",
       "  </tbody>\n",
       "</table>\n",
       "</div>"
      ],
      "text/plain": [
       "      AGEP  CIT  FER  FINCP  MAR  NOC   PINCP  RAC1P  SCHL       SERIALNO  \\\n",
       "5907    20    1  2.0    NaN    5  NaN  9000.0      1  19.0  2017001534830   \n",
       "5908    18    1  NaN    NaN    5  NaN  4000.0      1  16.0  2017001534957   \n",
       "5909    31    1  2.0    NaN    5  NaN  5000.0      9  18.0  2017001535265   \n",
       "5910    60    1  NaN    NaN    3  NaN  2400.0      1  19.0  2017001536156   \n",
       "5911    20    1  NaN    NaN    5  NaN     0.0      1  18.0  2017001536504   \n",
       "\n",
       "      SEX  ST    WAGP  \n",
       "5907    2  56  9000.0  \n",
       "5908    1  56     0.0  \n",
       "5909    2  56  5000.0  \n",
       "5910    1  56  2400.0  \n",
       "5911    1  56     0.0  "
      ]
     },
     "execution_count": 20,
     "metadata": {},
     "output_type": "execute_result"
    }
   ],
   "source": [
    "#acs17.drop('Unnamed: 0',axis=1,inplace=True)\n",
    "acs17.tail()"
   ]
  },
  {
   "cell_type": "code",
   "execution_count": 21,
   "metadata": {},
   "outputs": [],
   "source": [
    "acs17.to_csv('acs.csv')"
   ]
  },
  {
   "cell_type": "markdown",
   "metadata": {},
   "source": [
    "# 2. State-level mean personal income and fertility rate of married women\n",
    "**Start from here!**"
   ]
  },
  {
   "cell_type": "code",
   "execution_count": 22,
   "metadata": {},
   "outputs": [],
   "source": [
    "import pandas as pd                         # for dealing with data\n",
    "import numpy as np                          # for using math function\n",
    "import geopandas                            # for maps work\n",
    "import matplotlib.pyplot as plt             # for plotting graphes\n",
    "import seaborn as sns                       # for advanced plotting\n",
    "import statsmodels.formula.api as smf  # for using specific models from formulas"
   ]
  },
  {
   "cell_type": "markdown",
   "metadata": {},
   "source": [
    "Select the observations meeting my requirements. Since I want to know something about fertility rate, married women between 18 and 48 years old are most likely to give births."
   ]
  },
  {
   "cell_type": "code",
   "execution_count": 23,
   "metadata": {},
   "outputs": [
    {
     "data": {
      "text/html": [
       "<div>\n",
       "<style scoped>\n",
       "    .dataframe tbody tr th:only-of-type {\n",
       "        vertical-align: middle;\n",
       "    }\n",
       "\n",
       "    .dataframe tbody tr th {\n",
       "        vertical-align: top;\n",
       "    }\n",
       "\n",
       "    .dataframe thead th {\n",
       "        text-align: right;\n",
       "    }\n",
       "</style>\n",
       "<table border=\"1\" class=\"dataframe\">\n",
       "  <thead>\n",
       "    <tr style=\"text-align: right;\">\n",
       "      <th></th>\n",
       "      <th>SERIALNO</th>\n",
       "      <th>ST</th>\n",
       "      <th>AGE</th>\n",
       "      <th>FER</th>\n",
       "      <th>SCHL</th>\n",
       "      <th>RACE</th>\n",
       "      <th>INCOME</th>\n",
       "      <th>FINCP</th>\n",
       "      <th>NOC</th>\n",
       "    </tr>\n",
       "  </thead>\n",
       "  <tbody>\n",
       "    <tr>\n",
       "      <th>3</th>\n",
       "      <td>2017000000061</td>\n",
       "      <td>1</td>\n",
       "      <td>48</td>\n",
       "      <td>0.0</td>\n",
       "      <td>16.0</td>\n",
       "      <td>1</td>\n",
       "      <td>8700.0</td>\n",
       "      <td>90700.0</td>\n",
       "      <td>1.0</td>\n",
       "    </tr>\n",
       "    <tr>\n",
       "      <th>24</th>\n",
       "      <td>2017000000654</td>\n",
       "      <td>1</td>\n",
       "      <td>42</td>\n",
       "      <td>0.0</td>\n",
       "      <td>19.0</td>\n",
       "      <td>1</td>\n",
       "      <td>0.0</td>\n",
       "      <td>49700.0</td>\n",
       "      <td>2.0</td>\n",
       "    </tr>\n",
       "    <tr>\n",
       "      <th>33</th>\n",
       "      <td>2017000000695</td>\n",
       "      <td>1</td>\n",
       "      <td>35</td>\n",
       "      <td>0.0</td>\n",
       "      <td>17.0</td>\n",
       "      <td>1</td>\n",
       "      <td>20100.0</td>\n",
       "      <td>20100.0</td>\n",
       "      <td>3.0</td>\n",
       "    </tr>\n",
       "    <tr>\n",
       "      <th>44</th>\n",
       "      <td>2017000000812</td>\n",
       "      <td>1</td>\n",
       "      <td>25</td>\n",
       "      <td>0.0</td>\n",
       "      <td>20.0</td>\n",
       "      <td>1</td>\n",
       "      <td>19500.0</td>\n",
       "      <td>47500.0</td>\n",
       "      <td>0.0</td>\n",
       "    </tr>\n",
       "    <tr>\n",
       "      <th>55</th>\n",
       "      <td>2017000001602</td>\n",
       "      <td>1</td>\n",
       "      <td>44</td>\n",
       "      <td>0.0</td>\n",
       "      <td>22.0</td>\n",
       "      <td>1</td>\n",
       "      <td>51000.0</td>\n",
       "      <td>104000.0</td>\n",
       "      <td>1.0</td>\n",
       "    </tr>\n",
       "  </tbody>\n",
       "</table>\n",
       "</div>"
      ],
      "text/plain": [
       "         SERIALNO  ST  AGE  FER  SCHL  RACE   INCOME     FINCP  NOC\n",
       "3   2017000000061   1   48  0.0  16.0     1   8700.0   90700.0  1.0\n",
       "24  2017000000654   1   42  0.0  19.0     1      0.0   49700.0  2.0\n",
       "33  2017000000695   1   35  0.0  17.0     1  20100.0   20100.0  3.0\n",
       "44  2017000000812   1   25  0.0  20.0     1  19500.0   47500.0  0.0\n",
       "55  2017000001602   1   44  0.0  22.0     1  51000.0  104000.0  1.0"
      ]
     },
     "execution_count": 23,
     "metadata": {},
     "output_type": "execute_result"
    }
   ],
   "source": [
    "acs17=pd.read_csv('acs.csv')\n",
    "#I only need observations who are married female, between 18 and 48 years old.\n",
    "acs17=acs17[(acs17['SEX']==2)&(acs17['CIT']!=5)&(acs17['AGEP']>=18)&(acs17['AGEP']<=48)&(acs17['MAR']==1)]\n",
    "acs17=acs17[-acs17['SCHL'].isnull()]\n",
    "acs17['FER'].replace(2,0,inplace=True) #If they didn't give birth last year then FER=0.\n",
    "acs17['INCOME']=acs17[['WAGP','PINCP']].max(axis=1) #Take the bigger one in 'personal wage and personal income as one's income\n",
    "acs17.drop(['Unnamed: 0','SEX','CIT','MAR','WAGP','PINCP'],axis=1,inplace=True)\n",
    "acs17.rename(columns={'AGEP':'AGE','SCHG':'EDUC','RAC1P':'RACE'},inplace=True)\n",
    "acs17=acs17[['SERIALNO','ST','AGE','FER','SCHL','RACE','INCOME','FINCP','NOC']]\n",
    "acs17.head()"
   ]
  },
  {
   "cell_type": "code",
   "execution_count": 24,
   "metadata": {},
   "outputs": [
    {
     "name": "stdout",
     "output_type": "stream",
     "text": [
      "SERIALNO      int64\n",
      "ST            int64\n",
      "AGE           int64\n",
      "FER         float64\n",
      "SCHL        float64\n",
      "RACE          int64\n",
      "INCOME      float64\n",
      "FINCP       float64\n",
      "NOC         float64\n",
      "dtype: object\n",
      "(369383, 9)\n"
     ]
    }
   ],
   "source": [
    "print(acs17.dtypes)\n",
    "print(acs17.shape)"
   ]
  },
  {
   "cell_type": "markdown",
   "metadata": {},
   "source": [
    "Make a resonable category for education attainment. \n",
    "<br>0: not have been to primary school.\n",
    "<br>1~11: Grade 1 to Grade 11\n",
    "<br>12: Grade 12 without high school diplomas\n",
    "<br>13: Grade 12 with high school diplomas\n",
    "<br>14: Some college\n",
    "<br>15: Bachelor's degree and equivalents\n",
    "<br>16: Master's and professional degree (above bachelor)\n",
    "<br>17: PhD degree and above"
   ]
  },
  {
   "cell_type": "code",
   "execution_count": 25,
   "metadata": {},
   "outputs": [],
   "source": [
    "acs17['SCHL']=acs17['SCHL'].map({1:0, 2:0, 3:0, 4:1, 5:2, 6:3, 7:4, 8:5, 9:6, 10:7, 11:8, 12:9, 13:10, 14:11, 15:12, 16:13,\n",
    "                                 17:13, 18:14 ,19:14,20:14, 21:15, 22:16, 23:16, 24:17})\n",
    "acs17.dropna(inplace=True)"
   ]
  },
  {
   "cell_type": "code",
   "execution_count": 26,
   "metadata": {},
   "outputs": [
    {
     "name": "stdout",
     "output_type": "stream",
     "text": [
      "Name    object\n",
      "ST      object\n",
      "code     int64\n",
      "dtype: object\n"
     ]
    }
   ],
   "source": [
    "codes=pd.read_csv('codes.csv') #To specify states name.\n",
    "print(codes.dtypes)"
   ]
  },
  {
   "cell_type": "code",
   "execution_count": 27,
   "metadata": {},
   "outputs": [
    {
     "data": {
      "text/html": [
       "<div>\n",
       "<style scoped>\n",
       "    .dataframe tbody tr th:only-of-type {\n",
       "        vertical-align: middle;\n",
       "    }\n",
       "\n",
       "    .dataframe tbody tr th {\n",
       "        vertical-align: top;\n",
       "    }\n",
       "\n",
       "    .dataframe thead th {\n",
       "        text-align: right;\n",
       "    }\n",
       "</style>\n",
       "<table border=\"1\" class=\"dataframe\">\n",
       "  <thead>\n",
       "    <tr style=\"text-align: right;\">\n",
       "      <th></th>\n",
       "      <th>SERIALNO</th>\n",
       "      <th>ST</th>\n",
       "      <th>AGE</th>\n",
       "      <th>FER</th>\n",
       "      <th>SCHL</th>\n",
       "      <th>RACE</th>\n",
       "      <th>INCOME</th>\n",
       "      <th>FINCP</th>\n",
       "      <th>NOC</th>\n",
       "      <th>STATE</th>\n",
       "    </tr>\n",
       "  </thead>\n",
       "  <tbody>\n",
       "    <tr>\n",
       "      <th>0</th>\n",
       "      <td>2017000000061</td>\n",
       "      <td>1</td>\n",
       "      <td>48</td>\n",
       "      <td>0.0</td>\n",
       "      <td>13</td>\n",
       "      <td>1</td>\n",
       "      <td>8700.0</td>\n",
       "      <td>90700.0</td>\n",
       "      <td>1.0</td>\n",
       "      <td>AL</td>\n",
       "    </tr>\n",
       "    <tr>\n",
       "      <th>1</th>\n",
       "      <td>2017000000654</td>\n",
       "      <td>1</td>\n",
       "      <td>42</td>\n",
       "      <td>0.0</td>\n",
       "      <td>14</td>\n",
       "      <td>1</td>\n",
       "      <td>0.0</td>\n",
       "      <td>49700.0</td>\n",
       "      <td>2.0</td>\n",
       "      <td>AL</td>\n",
       "    </tr>\n",
       "    <tr>\n",
       "      <th>2</th>\n",
       "      <td>2017000000695</td>\n",
       "      <td>1</td>\n",
       "      <td>35</td>\n",
       "      <td>0.0</td>\n",
       "      <td>13</td>\n",
       "      <td>1</td>\n",
       "      <td>20100.0</td>\n",
       "      <td>20100.0</td>\n",
       "      <td>3.0</td>\n",
       "      <td>AL</td>\n",
       "    </tr>\n",
       "    <tr>\n",
       "      <th>3</th>\n",
       "      <td>2017000000812</td>\n",
       "      <td>1</td>\n",
       "      <td>25</td>\n",
       "      <td>0.0</td>\n",
       "      <td>14</td>\n",
       "      <td>1</td>\n",
       "      <td>19500.0</td>\n",
       "      <td>47500.0</td>\n",
       "      <td>0.0</td>\n",
       "      <td>AL</td>\n",
       "    </tr>\n",
       "    <tr>\n",
       "      <th>4</th>\n",
       "      <td>2017000001602</td>\n",
       "      <td>1</td>\n",
       "      <td>44</td>\n",
       "      <td>0.0</td>\n",
       "      <td>16</td>\n",
       "      <td>1</td>\n",
       "      <td>51000.0</td>\n",
       "      <td>104000.0</td>\n",
       "      <td>1.0</td>\n",
       "      <td>AL</td>\n",
       "    </tr>\n",
       "  </tbody>\n",
       "</table>\n",
       "</div>"
      ],
      "text/plain": [
       "        SERIALNO  ST  AGE  FER  SCHL  RACE   INCOME     FINCP  NOC STATE\n",
       "0  2017000000061   1   48  0.0    13     1   8700.0   90700.0  1.0    AL\n",
       "1  2017000000654   1   42  0.0    14     1      0.0   49700.0  2.0    AL\n",
       "2  2017000000695   1   35  0.0    13     1  20100.0   20100.0  3.0    AL\n",
       "3  2017000000812   1   25  0.0    14     1  19500.0   47500.0  0.0    AL\n",
       "4  2017000001602   1   44  0.0    16     1  51000.0  104000.0  1.0    AL"
      ]
     },
     "execution_count": 27,
     "metadata": {},
     "output_type": "execute_result"
    }
   ],
   "source": [
    "codes.drop('Name',axis=1,inplace=True)\n",
    "codes.rename(columns={'ST':'STATE','code':'ST'},inplace=True)\n",
    "df=pd.merge(acs17,codes,on='ST',how='left')\n",
    "df.head()"
   ]
  },
  {
   "cell_type": "markdown",
   "metadata": {},
   "source": [
    "I want to know if there is some relationship between and fertility rate and personal income level."
   ]
  },
  {
   "cell_type": "code",
   "execution_count": 28,
   "metadata": {},
   "outputs": [
    {
     "data": {
      "text/html": [
       "<div>\n",
       "<style scoped>\n",
       "    .dataframe tbody tr th:only-of-type {\n",
       "        vertical-align: middle;\n",
       "    }\n",
       "\n",
       "    .dataframe tbody tr th {\n",
       "        vertical-align: top;\n",
       "    }\n",
       "\n",
       "    .dataframe thead th {\n",
       "        text-align: right;\n",
       "    }\n",
       "</style>\n",
       "<table border=\"1\" class=\"dataframe\">\n",
       "  <thead>\n",
       "    <tr style=\"text-align: right;\">\n",
       "      <th></th>\n",
       "      <th>FER</th>\n",
       "      <th>INCOME</th>\n",
       "      <th>FINCP</th>\n",
       "    </tr>\n",
       "    <tr>\n",
       "      <th>STATE</th>\n",
       "      <th></th>\n",
       "      <th></th>\n",
       "      <th></th>\n",
       "    </tr>\n",
       "  </thead>\n",
       "  <tbody>\n",
       "    <tr>\n",
       "      <th>AK</th>\n",
       "      <td>0.117988</td>\n",
       "      <td>35466.266925</td>\n",
       "      <td>108640.793037</td>\n",
       "    </tr>\n",
       "    <tr>\n",
       "      <th>AL</th>\n",
       "      <td>0.078009</td>\n",
       "      <td>29290.694888</td>\n",
       "      <td>94085.080937</td>\n",
       "    </tr>\n",
       "    <tr>\n",
       "      <th>AR</th>\n",
       "      <td>0.082698</td>\n",
       "      <td>29731.099157</td>\n",
       "      <td>90669.670012</td>\n",
       "    </tr>\n",
       "    <tr>\n",
       "      <th>AZ</th>\n",
       "      <td>0.090698</td>\n",
       "      <td>36538.101057</td>\n",
       "      <td>111744.692600</td>\n",
       "    </tr>\n",
       "    <tr>\n",
       "      <th>CA</th>\n",
       "      <td>0.085809</td>\n",
       "      <td>46480.141798</td>\n",
       "      <td>143682.606387</td>\n",
       "    </tr>\n",
       "    <tr>\n",
       "      <th>CO</th>\n",
       "      <td>0.090855</td>\n",
       "      <td>42600.955459</td>\n",
       "      <td>127799.524438</td>\n",
       "    </tr>\n",
       "    <tr>\n",
       "      <th>CT</th>\n",
       "      <td>0.086659</td>\n",
       "      <td>53320.112858</td>\n",
       "      <td>166653.458283</td>\n",
       "    </tr>\n",
       "    <tr>\n",
       "      <th>DC</th>\n",
       "      <td>0.104895</td>\n",
       "      <td>84785.202797</td>\n",
       "      <td>211700.275058</td>\n",
       "    </tr>\n",
       "    <tr>\n",
       "      <th>DE</th>\n",
       "      <td>0.079932</td>\n",
       "      <td>49170.918367</td>\n",
       "      <td>131683.571429</td>\n",
       "    </tr>\n",
       "    <tr>\n",
       "      <th>FL</th>\n",
       "      <td>0.078576</td>\n",
       "      <td>36520.385510</td>\n",
       "      <td>111371.571052</td>\n",
       "    </tr>\n",
       "  </tbody>\n",
       "</table>\n",
       "</div>"
      ],
      "text/plain": [
       "            FER        INCOME          FINCP\n",
       "STATE                                       \n",
       "AK     0.117988  35466.266925  108640.793037\n",
       "AL     0.078009  29290.694888   94085.080937\n",
       "AR     0.082698  29731.099157   90669.670012\n",
       "AZ     0.090698  36538.101057  111744.692600\n",
       "CA     0.085809  46480.141798  143682.606387\n",
       "CO     0.090855  42600.955459  127799.524438\n",
       "CT     0.086659  53320.112858  166653.458283\n",
       "DC     0.104895  84785.202797  211700.275058\n",
       "DE     0.079932  49170.918367  131683.571429\n",
       "FL     0.078576  36520.385510  111371.571052"
      ]
     },
     "execution_count": 28,
     "metadata": {},
     "output_type": "execute_result"
    }
   ],
   "source": [
    "df=df.dropna()\n",
    "a=df.groupby('STATE')[['FER','INCOME','FINCP']].mean()\n",
    "a.head(10)"
   ]
  },
  {
   "cell_type": "markdown",
   "metadata": {},
   "source": [
    "But the relationship is not very clear in this table. We can first plot them out first. Besides, I should consider more factors that affect fertility rate since it is a very serious decison for a family. I'll do a regression afterwards."
   ]
  },
  {
   "cell_type": "code",
   "execution_count": 29,
   "metadata": {},
   "outputs": [
    {
     "data": {
      "text/html": [
       "<div>\n",
       "<style scoped>\n",
       "    .dataframe tbody tr th:only-of-type {\n",
       "        vertical-align: middle;\n",
       "    }\n",
       "\n",
       "    .dataframe tbody tr th {\n",
       "        vertical-align: top;\n",
       "    }\n",
       "\n",
       "    .dataframe thead th {\n",
       "        text-align: right;\n",
       "    }\n",
       "</style>\n",
       "<table border=\"1\" class=\"dataframe\">\n",
       "  <thead>\n",
       "    <tr style=\"text-align: right;\">\n",
       "      <th></th>\n",
       "      <th>STATEFP</th>\n",
       "      <th>STATENS</th>\n",
       "      <th>AFFGEOID</th>\n",
       "      <th>GEOID</th>\n",
       "      <th>STUSPS</th>\n",
       "      <th>NAME</th>\n",
       "      <th>LSAD</th>\n",
       "      <th>ALAND</th>\n",
       "      <th>AWATER</th>\n",
       "      <th>geometry</th>\n",
       "    </tr>\n",
       "  </thead>\n",
       "  <tbody>\n",
       "    <tr>\n",
       "      <th>0</th>\n",
       "      <td>01</td>\n",
       "      <td>01779775</td>\n",
       "      <td>0400000US01</td>\n",
       "      <td>01</td>\n",
       "      <td>AL</td>\n",
       "      <td>Alabama</td>\n",
       "      <td>00</td>\n",
       "      <td>131173688951</td>\n",
       "      <td>4593686489</td>\n",
       "      <td>(POLYGON ((-88.04374299999999 30.517423, -88.0...</td>\n",
       "    </tr>\n",
       "    <tr>\n",
       "      <th>1</th>\n",
       "      <td>02</td>\n",
       "      <td>01785533</td>\n",
       "      <td>0400000US02</td>\n",
       "      <td>02</td>\n",
       "      <td>AK</td>\n",
       "      <td>Alaska</td>\n",
       "      <td>00</td>\n",
       "      <td>1477946266785</td>\n",
       "      <td>245390495931</td>\n",
       "      <td>(POLYGON ((-133.655819 55.625617, -133.624921 ...</td>\n",
       "    </tr>\n",
       "    <tr>\n",
       "      <th>2</th>\n",
       "      <td>04</td>\n",
       "      <td>01779777</td>\n",
       "      <td>0400000US04</td>\n",
       "      <td>04</td>\n",
       "      <td>AZ</td>\n",
       "      <td>Arizona</td>\n",
       "      <td>00</td>\n",
       "      <td>294198560125</td>\n",
       "      <td>1027346486</td>\n",
       "      <td>POLYGON ((-114.799683 32.593621, -114.809393 3...</td>\n",
       "    </tr>\n",
       "    <tr>\n",
       "      <th>3</th>\n",
       "      <td>08</td>\n",
       "      <td>01779779</td>\n",
       "      <td>0400000US08</td>\n",
       "      <td>08</td>\n",
       "      <td>CO</td>\n",
       "      <td>Colorado</td>\n",
       "      <td>00</td>\n",
       "      <td>268429343790</td>\n",
       "      <td>1175112870</td>\n",
       "      <td>POLYGON ((-109.060253 38.599328, -109.059541 3...</td>\n",
       "    </tr>\n",
       "    <tr>\n",
       "      <th>4</th>\n",
       "      <td>09</td>\n",
       "      <td>01779780</td>\n",
       "      <td>0400000US09</td>\n",
       "      <td>09</td>\n",
       "      <td>CT</td>\n",
       "      <td>Connecticut</td>\n",
       "      <td>00</td>\n",
       "      <td>12542638347</td>\n",
       "      <td>1815476291</td>\n",
       "      <td>POLYGON ((-73.72777499999999 41.100696, -73.69...</td>\n",
       "    </tr>\n",
       "  </tbody>\n",
       "</table>\n",
       "</div>"
      ],
      "text/plain": [
       "  STATEFP   STATENS     AFFGEOID GEOID STUSPS         NAME LSAD  \\\n",
       "0      01  01779775  0400000US01    01     AL      Alabama   00   \n",
       "1      02  01785533  0400000US02    02     AK       Alaska   00   \n",
       "2      04  01779777  0400000US04    04     AZ      Arizona   00   \n",
       "3      08  01779779  0400000US08    08     CO     Colorado   00   \n",
       "4      09  01779780  0400000US09    09     CT  Connecticut   00   \n",
       "\n",
       "           ALAND        AWATER  \\\n",
       "0   131173688951    4593686489   \n",
       "1  1477946266785  245390495931   \n",
       "2   294198560125    1027346486   \n",
       "3   268429343790    1175112870   \n",
       "4    12542638347    1815476291   \n",
       "\n",
       "                                            geometry  \n",
       "0  (POLYGON ((-88.04374299999999 30.517423, -88.0...  \n",
       "1  (POLYGON ((-133.655819 55.625617, -133.624921 ...  \n",
       "2  POLYGON ((-114.799683 32.593621, -114.809393 3...  \n",
       "3  POLYGON ((-109.060253 38.599328, -109.059541 3...  \n",
       "4  POLYGON ((-73.72777499999999 41.100696, -73.69...  "
      ]
     },
     "execution_count": 29,
     "metadata": {},
     "output_type": "execute_result"
    }
   ],
   "source": [
    "#Import states geo dataframe.\n",
    "states =  geopandas.read_file('cb_2016_us_state_5m.shp')#In order to plot a map with mean fertility rate.\n",
    "states.head(5)"
   ]
  },
  {
   "cell_type": "code",
   "execution_count": 30,
   "metadata": {},
   "outputs": [],
   "source": [
    "states.rename(columns={'GEOID':'ST','STUSPS':'STATE'},inplace=True)\n",
    "states=states[-states['STATE'].isin(['GU', 'MP', 'AS', 'PR', 'VI', 'AK', 'HI'])]"
   ]
  },
  {
   "cell_type": "code",
   "execution_count": 31,
   "metadata": {},
   "outputs": [
    {
     "data": {
      "text/plain": [
       "geopandas.geodataframe.GeoDataFrame"
      ]
     },
     "execution_count": 31,
     "metadata": {},
     "output_type": "execute_result"
    }
   ],
   "source": [
    "a=pd.merge(a,states,on='STATE',how='inner')\n",
    "a=geopandas.GeoDataFrame(a, geometry = 'geometry') #Make the dataset to be a geo dataframe so we can plot it as a map.\n",
    "a=a[-a['STATE'].isin(['GU', 'MP', 'AS', 'PR', 'VI', 'AK', 'HI'])]#Only take a look at US mainland.\n",
    "type(a)"
   ]
  },
  {
   "cell_type": "code",
   "execution_count": 32,
   "metadata": {},
   "outputs": [],
   "source": [
    "a['FER']=a['FER']*1000 #Fertility rate is usually interpreted as how many children do 1000 women give births to."
   ]
  },
  {
   "cell_type": "code",
   "execution_count": 33,
   "metadata": {},
   "outputs": [
    {
     "data": {
      "image/png": "[encoded data removed]",
      "text/plain": [
       "<Figure size 1080x1512 with 6 Axes>"
      ]
     },
     "metadata": {},
     "output_type": "display_data"
    }
   ],
   "source": [
    "fig,gax = plt.subplots(3,1,figsize=(15,21))\n",
    "\n",
    "states.plot(ax=gax[0], edgecolor='black', color='white')\n",
    "a.plot(ax=gax[0], column='FER', legend=True, cmap='Wistia', edgecolor='black')\n",
    "\n",
    "states.plot(ax=gax[1], edgecolor='black', color='white')\n",
    "a.plot(ax=gax[1], column='INCOME',legend=True, cmap='Wistia',edgecolor='black')\n",
    "\n",
    "states.plot(ax=gax[2], edgecolor='black', color='white')\n",
    "a.plot(ax=gax[2], column='FINCP',legend=True, cmap='Wistia',edgecolor='black')\n",
    "    \n",
    "gax[0].set_title('State-level average fertility per 1000 women',fontsize=15)\n",
    "gax[0].axis('off')\n",
    "gax[0].text\n",
    "\n",
    "gax[1].set_title('State-level average personal yearly income (dollars)',fontsize=15)\n",
    "gax[1].axis('off')\n",
    "\n",
    "gax[2].set_title('State-level average family yearly income (dollars)',fontsize=15)\n",
    "gax[2].axis('off')\n",
    "\n",
    "plt.show()\n",
    "#fig.savefig('map.png')"
   ]
  },
  {
   "cell_type": "markdown",
   "metadata": {},
   "source": [
    "We can see from the graphs above that in midwest states more new babies were born than those in states near coasts.\n",
    "Roughly, it looks like that the women in those most productive states are earning less money. This makes sense because giving birth takes too much efforts and too long time for women. However, fertily rate seems still not positively related to family income."
   ]
  },
  {
   "cell_type": "markdown",
   "metadata": {},
   "source": [
    "# 3. A direct relationship between fertility and income"
   ]
  },
  {
   "cell_type": "code",
   "execution_count": 34,
   "metadata": {},
   "outputs": [
    {
     "data": {
      "image/png": "[encoded data removed]",
      "text/plain": [
       "<Figure size 720x432 with 1 Axes>"
      ]
     },
     "metadata": {},
     "output_type": "display_data"
    }
   ],
   "source": [
    "fig,ax=plt.subplots(figsize=(10,6))\n",
    "ax.scatter(a['INCOME'],a['FER'], color='red',marker='*',alpha = 0.5,label = 'personal income')  \n",
    "ax.scatter(a['FINCP'], a['FER'], color='blue',marker='x',label = 'family income')\n",
    "sns.despine()\n",
    "ax.set_xlabel('$ mean income per year')\n",
    "ax.set_ylabel('new babies per 1000 women')\n",
    "ax.set_title('Fertility vs Family Income & Personal Income')\n",
    "ax.legend()\n",
    "#fig.savefig('scatter.png')"
   ]
  },
  {
   "cell_type": "markdown",
   "metadata": {},
   "source": [
    "It seems like there is no linear relationship between these variables."
   ]
  },
  {
   "cell_type": "code",
   "execution_count": 35,
   "metadata": {},
   "outputs": [
    {
     "name": "stdout",
     "output_type": "stream",
     "text": [
      "                            OLS Regression Results                            \n",
      "==============================================================================\n",
      "Dep. Variable:                    FER   R-squared:                       0.001\n",
      "Model:                            OLS   Adj. R-squared:                  0.001\n",
      "Method:                 Least Squares   F-statistic:                     254.2\n",
      "Date:                Fri, 14 Dec 2018   Prob (F-statistic):           3.24e-57\n",
      "Time:                        21:43:52   Log-Likelihood:                -55156.\n",
      "No. Observations:              364919   AIC:                         1.103e+05\n",
      "Df Residuals:                  364917   BIC:                         1.103e+05\n",
      "Df Model:                           1                                         \n",
      "Covariance Type:            nonrobust                                         \n",
      "==============================================================================\n",
      "                 coef    std err          t      P>|t|      [0.025      0.975]\n",
      "------------------------------------------------------------------------------\n",
      "Intercept      0.0925      0.001    157.146      0.000       0.091       0.094\n",
      "INCOME     -1.446e-07   9.07e-09    -15.945      0.000   -1.62e-07   -1.27e-07\n",
      "==============================================================================\n",
      "Omnibus:                   209547.657   Durbin-Watson:                   1.999\n",
      "Prob(Omnibus):                  0.000   Jarque-Bera (JB):          1186315.151\n",
      "Skew:                           2.932   Prob(JB):                         0.00\n",
      "Kurtosis:                       9.606   Cond. No.                     8.21e+04\n",
      "==============================================================================\n",
      "\n",
      "Warnings:\n",
      "[1] Standard Errors assume that the covariance matrix of the errors is correctly specified.\n",
      "[2] The condition number is large, 8.21e+04. This might indicate that there are\n",
      "strong multicollinearity or other numerical problems.\n"
     ]
    }
   ],
   "source": [
    "res1=smf.ols('FER~INCOME',data=acs17).fit()\n",
    "print(res1.summary())\n",
    "\n",
    "#I used codes below to output as a latex file. No need to run these line.\n",
    "\n",
    "\n",
    "#f1 = open('reg1.tex', 'w')\n",
    "#f1.write(beginningtex)\n",
    "#f1.write(res1.summary().as_latex())\n",
    "#f1.write(endtex)\n",
    "#f1.close()"
   ]
  },
  {
   "cell_type": "code",
   "execution_count": 36,
   "metadata": {},
   "outputs": [
    {
     "name": "stdout",
     "output_type": "stream",
     "text": [
      "                            OLS Regression Results                            \n",
      "==============================================================================\n",
      "Dep. Variable:                    FER   R-squared:                       0.001\n",
      "Model:                            OLS   Adj. R-squared:                  0.001\n",
      "Method:                 Least Squares   F-statistic:                     271.7\n",
      "Date:                Fri, 14 Dec 2018   Prob (F-statistic):           5.20e-61\n",
      "Time:                        21:43:52   Log-Likelihood:                -55147.\n",
      "No. Observations:              364919   AIC:                         1.103e+05\n",
      "Df Residuals:                  364917   BIC:                         1.103e+05\n",
      "Df Model:                           1                                         \n",
      "Covariance Type:            nonrobust                                         \n",
      "==============================================================================\n",
      "                 coef    std err          t      P>|t|      [0.025      0.975]\n",
      "------------------------------------------------------------------------------\n",
      "Intercept      0.0956      0.001    135.023      0.000       0.094       0.097\n",
      "FINCP      -7.236e-08   4.39e-09    -16.482      0.000    -8.1e-08   -6.38e-08\n",
      "==============================================================================\n",
      "Omnibus:                   209531.238   Durbin-Watson:                   2.000\n",
      "Prob(Omnibus):                  0.000   Jarque-Bera (JB):          1186085.072\n",
      "Skew:                           2.932   Prob(JB):                         0.00\n",
      "Kurtosis:                       9.605   Cond. No.                     2.45e+05\n",
      "==============================================================================\n",
      "\n",
      "Warnings:\n",
      "[1] Standard Errors assume that the covariance matrix of the errors is correctly specified.\n",
      "[2] The condition number is large, 2.45e+05. This might indicate that there are\n",
      "strong multicollinearity or other numerical problems.\n"
     ]
    }
   ],
   "source": [
    "res2=smf.ols('FER~FINCP',data=acs17).fit()\n",
    "print(res2.summary())"
   ]
  },
  {
   "cell_type": "code",
   "execution_count": 37,
   "metadata": {},
   "outputs": [
    {
     "data": {
      "image/png": "[encoded data removed]",
      "text/plain": [
       "<Figure size 720x432 with 1 Axes>"
      ]
     },
     "metadata": {},
     "output_type": "display_data"
    }
   ],
   "source": [
    "fig,ax = plt.subplots(figsize=(10,6))\n",
    "\n",
    "p1=res1.params\n",
    "x1=range(10000,60000)\n",
    "y1=[p1.Intercept + p1.INCOME*i for i in x1]\n",
    "\n",
    "p2=res2.params\n",
    "x2=range(75000,175000)\n",
    "y2=[p2.Intercept + p2.FINCP*i for i in x2]\n",
    "\n",
    "ax.plot(x1,y1,color='red',linestyle=':',label='personal income')\n",
    "ax.plot(x2,y2,color='blue',label='family income')\n",
    "text1 = 'prob=%.3f +(%.7f)*income '%(p1.Intercept, p1.INCOME)\n",
    "text2 = 'prob=%.3f + (%.8f)*income '%(p2.Intercept, p2.FINCP)\n",
    "ax.text(21000,0.083,text1,fontsize=12)\n",
    "ax.text(70000,0.085,text2,fontsize=12)\n",
    "\n",
    "ax.set_xlabel('$ income per year', fontsize=14)\n",
    "ax.set_ylabel('give birth or not', fontsize=14)\n",
    "ax.set_title('Fertility vs Income')\n",
    "ax.legend()\n",
    "\n",
    "sns.despine()\n",
    "\n",
    "#fig.savefig('plot.png')"
   ]
  },
  {
   "cell_type": "markdown",
   "metadata": {},
   "source": [
    "I ran the logit regression as well to check if they have the same tendency."
   ]
  },
  {
   "cell_type": "code",
   "execution_count": 38,
   "metadata": {},
   "outputs": [
    {
     "name": "stdout",
     "output_type": "stream",
     "text": [
      "Optimization terminated successfully.\n",
      "         Current function value: 0.294689\n",
      "         Iterations 7\n",
      "                           Logit Regression Results                           \n",
      "==============================================================================\n",
      "Dep. Variable:                    FER   No. Observations:               364919\n",
      "Model:                          Logit   Df Residuals:                   364917\n",
      "Method:                           MLE   Df Model:                            1\n",
      "Date:                Fri, 14 Dec 2018   Pseudo R-squ.:                0.001340\n",
      "Time:                        21:44:01   Log-Likelihood:            -1.0754e+05\n",
      "converged:                       True   LL-Null:                   -1.0768e+05\n",
      "                                        LLR p-value:                 1.034e-64\n",
      "==============================================================================\n",
      "                 coef    std err          z      P>|z|      [0.025      0.975]\n",
      "------------------------------------------------------------------------------\n",
      "Intercept     -2.2701      0.008   -295.601      0.000      -2.285      -2.255\n",
      "INCOME     -2.214e-06   1.39e-07    -15.969      0.000   -2.49e-06   -1.94e-06\n",
      "==============================================================================\n"
     ]
    }
   ],
   "source": [
    "reg_log1 = smf.logit('FER~INCOME',data=acs17).fit()\n",
    "print(reg_log1.summary())"
   ]
  },
  {
   "cell_type": "code",
   "execution_count": 39,
   "metadata": {},
   "outputs": [
    {
     "name": "stdout",
     "output_type": "stream",
     "text": [
      "Optimization terminated successfully.\n",
      "         Current function value: 0.294676\n",
      "         Iterations 7\n",
      "                           Logit Regression Results                           \n",
      "==============================================================================\n",
      "Dep. Variable:                    FER   No. Observations:               364919\n",
      "Model:                          Logit   Df Residuals:                   364917\n",
      "Method:                           MLE   Df Model:                            1\n",
      "Date:                Fri, 14 Dec 2018   Pseudo R-squ.:                0.001383\n",
      "Time:                        21:44:07   Log-Likelihood:            -1.0753e+05\n",
      "converged:                       True   LL-Null:                   -1.0768e+05\n",
      "                                        LLR p-value:                 9.261e-67\n",
      "==============================================================================\n",
      "                 coef    std err          z      P>|z|      [0.025      0.975]\n",
      "------------------------------------------------------------------------------\n",
      "Intercept     -2.2303      0.009   -239.846      0.000      -2.249      -2.212\n",
      "FINCP      -1.052e-06   6.39e-08    -16.462      0.000   -1.18e-06   -9.27e-07\n",
      "==============================================================================\n"
     ]
    }
   ],
   "source": [
    "reg_log2 = smf.logit('FER~FINCP',data=acs17).fit()\n",
    "print(reg_log2.summary())"
   ]
  },
  {
   "cell_type": "markdown",
   "metadata": {},
   "source": [
    "# 4. Relationships between fertility rate, education level and age"
   ]
  },
  {
   "cell_type": "markdown",
   "metadata": {},
   "source": [
    "We believe that the more one is educated, the greater ability he/she gains and the higher salary he/she would earn as well. We can then delude that a women with a higher diploma is less likely to give a birth. However, we also knows that as people age, they are more experienced thus earning more. Does aging also lead to low fertility? We can see if it's true from contrasting graph."
   ]
  },
  {
   "cell_type": "code",
   "execution_count": 40,
   "metadata": {},
   "outputs": [
    {
     "data": {
      "text/plain": [
       "CategoricalDtype(categories=['no-school', 'HS-', 'HS', 'College', 'Graduate+'], ordered=True)"
      ]
     },
     "execution_count": 40,
     "metadata": {},
     "output_type": "execute_result"
    }
   ],
   "source": [
    "educ = pd.cut(\n",
    "    df['SCHL'],\n",
    "    [-np.inf, 0, 12, 14,15, np.inf],\n",
    "    labels=['no-school', 'HS-', 'HS','College','Graduate+'],   \n",
    "    #'HS-' means less than high school, 'Graduate+' means graduate and above\n",
    "    right = True\n",
    ")\n",
    "educ.dtypes"
   ]
  },
  {
   "cell_type": "code",
   "execution_count": 41,
   "metadata": {},
   "outputs": [],
   "source": [
    "age = pd.cut(\n",
    "    df['AGE'],\n",
    "    [17,27,37,48],\n",
    "    labels=['young', 'middle', 'senior'], # I believe middle group may have the highest fertility rate.\n",
    "    right = True\n",
    ")"
   ]
  },
  {
   "cell_type": "code",
   "execution_count": 42,
   "metadata": {},
   "outputs": [
    {
     "data": {
      "text/html": [
       "<div>\n",
       "<style scoped>\n",
       "    .dataframe tbody tr th:only-of-type {\n",
       "        vertical-align: middle;\n",
       "    }\n",
       "\n",
       "    .dataframe tbody tr th {\n",
       "        vertical-align: top;\n",
       "    }\n",
       "\n",
       "    .dataframe thead th {\n",
       "        text-align: right;\n",
       "    }\n",
       "</style>\n",
       "<table border=\"1\" class=\"dataframe\">\n",
       "  <thead>\n",
       "    <tr style=\"text-align: right;\">\n",
       "      <th></th>\n",
       "      <th></th>\n",
       "      <th>count</th>\n",
       "      <th>mean</th>\n",
       "    </tr>\n",
       "    <tr>\n",
       "      <th>AGE</th>\n",
       "      <th>SCHL</th>\n",
       "      <th></th>\n",
       "      <th></th>\n",
       "    </tr>\n",
       "  </thead>\n",
       "  <tbody>\n",
       "    <tr>\n",
       "      <th rowspan=\"5\" valign=\"top\">young</th>\n",
       "      <th>no-school</th>\n",
       "      <td>248</td>\n",
       "      <td>217.741935</td>\n",
       "    </tr>\n",
       "    <tr>\n",
       "      <th>HS-</th>\n",
       "      <td>2270</td>\n",
       "      <td>216.299559</td>\n",
       "    </tr>\n",
       "    <tr>\n",
       "      <th>HS</th>\n",
       "      <td>25123</td>\n",
       "      <td>198.981013</td>\n",
       "    </tr>\n",
       "    <tr>\n",
       "      <th>College</th>\n",
       "      <td>9661</td>\n",
       "      <td>146.775696</td>\n",
       "    </tr>\n",
       "    <tr>\n",
       "      <th>Graduate+</th>\n",
       "      <td>2251</td>\n",
       "      <td>105.286539</td>\n",
       "    </tr>\n",
       "    <tr>\n",
       "      <th rowspan=\"5\" valign=\"top\">middle</th>\n",
       "      <th>no-school</th>\n",
       "      <td>690</td>\n",
       "      <td>172.463768</td>\n",
       "    </tr>\n",
       "    <tr>\n",
       "      <th>HS-</th>\n",
       "      <td>4954</td>\n",
       "      <td>110.012111</td>\n",
       "    </tr>\n",
       "    <tr>\n",
       "      <th>HS</th>\n",
       "      <td>64265</td>\n",
       "      <td>115.895122</td>\n",
       "    </tr>\n",
       "    <tr>\n",
       "      <th>College</th>\n",
       "      <td>43389</td>\n",
       "      <td>160.870267</td>\n",
       "    </tr>\n",
       "    <tr>\n",
       "      <th>Graduate+</th>\n",
       "      <td>27740</td>\n",
       "      <td>177.901947</td>\n",
       "    </tr>\n",
       "    <tr>\n",
       "      <th rowspan=\"5\" valign=\"top\">senior</th>\n",
       "      <th>no-school</th>\n",
       "      <td>1408</td>\n",
       "      <td>26.278409</td>\n",
       "    </tr>\n",
       "    <tr>\n",
       "      <th>HS-</th>\n",
       "      <td>7809</td>\n",
       "      <td>24.074786</td>\n",
       "    </tr>\n",
       "    <tr>\n",
       "      <th>HS</th>\n",
       "      <td>86811</td>\n",
       "      <td>18.223497</td>\n",
       "    </tr>\n",
       "    <tr>\n",
       "      <th>College</th>\n",
       "      <td>51293</td>\n",
       "      <td>28.054510</td>\n",
       "    </tr>\n",
       "    <tr>\n",
       "      <th>Graduate+</th>\n",
       "      <td>37007</td>\n",
       "      <td>32.561407</td>\n",
       "    </tr>\n",
       "  </tbody>\n",
       "</table>\n",
       "</div>"
      ],
      "text/plain": [
       "                  count        mean\n",
       "AGE    SCHL                        \n",
       "young  no-school    248  217.741935\n",
       "       HS-         2270  216.299559\n",
       "       HS         25123  198.981013\n",
       "       College     9661  146.775696\n",
       "       Graduate+   2251  105.286539\n",
       "middle no-school    690  172.463768\n",
       "       HS-         4954  110.012111\n",
       "       HS         64265  115.895122\n",
       "       College    43389  160.870267\n",
       "       Graduate+  27740  177.901947\n",
       "senior no-school   1408   26.278409\n",
       "       HS-         7809   24.074786\n",
       "       HS         86811   18.223497\n",
       "       College    51293   28.054510\n",
       "       Graduate+  37007   32.561407"
      ]
     },
     "execution_count": 42,
     "metadata": {},
     "output_type": "execute_result"
    }
   ],
   "source": [
    "b = df.groupby([age,educ])['FER'].agg(['count','mean'])\n",
    "b['mean']=b['mean']*1000\n",
    "b"
   ]
  },
  {
   "cell_type": "code",
   "execution_count": 43,
   "metadata": {},
   "outputs": [],
   "source": [
    "b.reset_index(inplace=True)\n",
    "b.rename(columns={'mean':'Fertility',\"SCHL\":'Education level'},inplace=True)"
   ]
  },
  {
   "cell_type": "code",
   "execution_count": 44,
   "metadata": {},
   "outputs": [
    {
     "data": {
      "image/png": "[encoded data removed]",
      "text/plain": [
       "<Figure size 720x360 with 1 Axes>"
      ]
     },
     "metadata": {},
     "output_type": "display_data"
    }
   ],
   "source": [
    "f,ax = plt.subplots(figsize=(10,5))\n",
    "\n",
    "sns.barplot(x='Education level', y = 'Fertility', hue='AGE', data=b, ax=ax, palette =sns.color_palette(\"PuBu\",4))\n",
    "sns.despine() \n",
    "\n",
    "ax.set_xlabel('Education Attainment')  \n",
    "ax.set_ylabel('Mean new babies per 1000 women')\n",
    "\n",
    "sns.set_context(\"notebook\", font_scale=1, rc={\"lines.linewidth\": 2.5})\n",
    "\n",
    "ax.legend().set_title('')\n",
    "handles, labels = ax.get_legend_handles_labels()\n",
    "ax.legend(handles, ['18~27-year-old','28~37-year-old','38~48-year-old'], frameon=False, ncol=1, loc='upper right')\n",
    "ax.grid(axis='y', color='white')\n",
    "ax.xaxis.set_tick_params(length=0) \n",
    "ax.set_title('Fertility in different age groups and education attainment groups')\n",
    "\n",
    "#f.savefig('bar.png')"
   ]
  },
  {
   "cell_type": "markdown",
   "metadata": {},
   "source": [
    "# 5. Logit regression model"
   ]
  },
  {
   "cell_type": "code",
   "execution_count": 45,
   "metadata": {},
   "outputs": [],
   "source": [
    "c=acs17.copy()\n",
    "edu = pd.cut(\n",
    "    c['SCHL'],\n",
    "    [-np.inf, 0, 12, 14,15, np.inf],\n",
    "    labels=['no-school', 'HS-', 'HS','College','Graduate+'],   \n",
    "    #'HS-' means less than high school, 'Graduate+' means graduate and above\n",
    "    right = True\n",
    ")\n",
    "c['EDUC']=edu"
   ]
  },
  {
   "cell_type": "code",
   "execution_count": 46,
   "metadata": {},
   "outputs": [
    {
     "data": {
      "text/plain": [
       "SERIALNO       int64\n",
       "ST             int64\n",
       "AGE            int64\n",
       "FER          float64\n",
       "SCHL           int64\n",
       "RACE           int64\n",
       "INCOME       float64\n",
       "FINCP        float64\n",
       "NOC          float64\n",
       "EDUC        category\n",
       "dtype: object"
      ]
     },
     "execution_count": 46,
     "metadata": {},
     "output_type": "execute_result"
    }
   ],
   "source": [
    "c.dtypes"
   ]
  },
  {
   "cell_type": "code",
   "execution_count": 47,
   "metadata": {},
   "outputs": [
    {
     "name": "stdout",
     "output_type": "stream",
     "text": [
      "Optimization terminated successfully.\n",
      "         Current function value: 0.250269\n",
      "         Iterations 8\n",
      "                           Logit Regression Results                           \n",
      "==============================================================================\n",
      "Dep. Variable:                    FER   No. Observations:               364919\n",
      "Model:                          Logit   Df Residuals:                   364910\n",
      "Method:                           MLE   Df Model:                            8\n",
      "Date:                Fri, 14 Dec 2018   Pseudo R-squ.:                  0.1519\n",
      "Time:                        21:44:14   Log-Likelihood:                -91328.\n",
      "converged:                       True   LL-Null:                   -1.0768e+05\n",
      "                                        LLR p-value:                     0.000\n",
      "========================================================================================\n",
      "                           coef    std err          z      P>|z|      [0.025      0.975]\n",
      "----------------------------------------------------------------------------------------\n",
      "Intercept                2.4079      0.086     27.968      0.000       2.239       2.577\n",
      "C(EDUC)[T.HS-]          -0.5395      0.086     -6.285      0.000      -0.708      -0.371\n",
      "C(EDUC)[T.HS]           -0.3360      0.080     -4.205      0.000      -0.493      -0.179\n",
      "C(EDUC)[T.College]       0.1348      0.080      1.680      0.093      -0.022       0.292\n",
      "C(EDUC)[T.Graduate+]     0.3903      0.081      4.819      0.000       0.232       0.549\n",
      "AGE                     -0.1634      0.001   -141.807      0.000      -0.166      -0.161\n",
      "INCOME                2.923e-07   1.56e-07      1.871      0.061   -1.39e-08    5.98e-07\n",
      "FINCP                 6.438e-07   7.53e-08      8.545      0.000    4.96e-07    7.92e-07\n",
      "NOC                      0.5002      0.005    103.531      0.000       0.491       0.510\n",
      "========================================================================================\n",
      "\n"
     ]
    }
   ],
   "source": [
    "res = smf.logit('FER ~ AGE+INCOME+FINCP+NOC+C(EDUC)', data=c).fit()\n",
    "\n",
    "print(res.summary())\n",
    "print()\n",
    "\n",
    "#Codes below are used to output summary as a Latex file used in the report. No need to run.\n",
    "beginningtex = \"\"\"\\\\documentclass{report}\n",
    "\\\\usepackage{booktabs}\n",
    "\\\\begin{document}\"\"\"\n",
    "endtex = \"\\end{document}\"\n",
    "\n",
    "#f3 = open('res_log.tex', 'w')\n",
    "#f3.write(beginningtex)\n",
    "#f3.write(res.summary().as_latex())\n",
    "#f3.write(endtex)\n",
    "#f3.close()"
   ]
  },
  {
   "cell_type": "markdown",
   "metadata": {},
   "source": [
    "It is impossible to interpret the logit model with so many variables. However we can predict the probability in given case.\n",
    "\n",
    "Case1: Two observations who both graduated from a college, 24-year-old, married, having no child, having same family income 100,000 dollars per year but NO.1 earning 30,000 dollars per year and NO.2 40,000 dollars per year.\n",
    "\n",
    "Case2: Two observations who both graduated from a college, 24-year-old, married, having no child, earning 40,000 dollars per year but NO.1 having 100,000 dollars family income and NO.2 having 110,000 dollars."
   ]
  },
  {
   "cell_type": "code",
   "execution_count": 64,
   "metadata": {},
   "outputs": [],
   "source": [
    "test1=[['College',24,30000,100000,0],['College',24,40000,100000,0]]\n",
    "test1=pd.DataFrame(test1,columns=['EDUC','AGE','INCOME','FINCP','NOC'])\n",
    "\n",
    "test2=[['College',24,40000,100000,0],['College',24,40000,110000,0]]\n",
    "test2=pd.DataFrame(test2,columns=['EDUC','AGE','INCOME','FINCP','NOC'])"
   ]
  },
  {
   "cell_type": "code",
   "execution_count": 60,
   "metadata": {},
   "outputs": [
    {
     "name": "stdout",
     "output_type": "stream",
     "text": [
      "<class 'pandas.core.series.Series'>\n",
      "0    0.213056\n",
      "1    0.213546\n",
      "dtype: float64\n"
     ]
    }
   ],
   "source": [
    "pred1=res.predict(test1)\n",
    "print(type(pred1))\n",
    "print(pred1)"
   ]
  },
  {
   "cell_type": "code",
   "execution_count": 65,
   "metadata": {},
   "outputs": [
    {
     "name": "stdout",
     "output_type": "stream",
     "text": [
      "0    0.213546\n",
      "1    0.214629\n",
      "dtype: float64\n"
     ]
    }
   ],
   "source": [
    "pred2=res.predict(test2)\n",
    "print(pred2)"
   ]
  },
  {
   "cell_type": "code",
   "execution_count": 68,
   "metadata": {},
   "outputs": [
    {
     "name": "stdout",
     "output_type": "stream",
     "text": [
      "In case 1, NO.1 has probability of 21.31 percent to give a birth and NO.2 has a probability of 21.35 percent,0.05 percent higher.\n",
      "In case 2, NO.1 has probability of 21.35 percent to give a birth and NO.2 has a probability of 21.46 percent,0.11 percent higher.\n"
     ]
    }
   ],
   "source": [
    "print('In case 1, NO.1 has probability of %.2f percent to give a birth and NO.2 has a probability of %.2f percent,\\\n",
    "%.2f percent higher.'%(pred1[0]*100,pred1[1]*100,(pred1[1]-pred1[0])*100))\n",
    "print('In case 2, NO.1 has probability of %.2f percent to give a birth and NO.2 has a probability of %.2f percent,\\\n",
    "%.2f percent higher.'%(pred2[0]*100,pred2[1]*100,(pred2[1]-pred2[0])*100))"
   ]
  }
 ],
 "metadata": {
  "kernelspec": {
   "display_name": "Python 3",
   "language": "python",
   "name": "python3"
  },
  "language_info": {
   "codemirror_mode": {
    "name": "ipython",
    "version": 3
   },
   "file_extension": ".py",
   "mimetype": "text/x-python",
   "name": "python",
   "nbconvert_exporter": "python",
   "pygments_lexer": "ipython3",
   "version": "3.6.5"
  }
 },
 "nbformat": 4,
 "nbformat_minor": 2
}
